{
 "cells": [
  {
   "cell_type": "code",
   "execution_count": 9,
   "metadata": {},
   "outputs": [],
   "source": [
    "import pandas as pd\n",
    "import pickle\n",
    "import os\n",
    "import datetime"
   ]
  },
  {
   "cell_type": "code",
   "execution_count": 10,
   "metadata": {},
   "outputs": [],
   "source": [
    "if not os.path.exists('already-done.txt'):\n",
    "    already_done = []\n",
    "else:\n",
    "    already_done = list(set([int(x.replace(\"\\n\", \"\")) for x in open('already-done.txt','r').readlines()]))"
   ]
  },
  {
   "cell_type": "code",
   "execution_count": 11,
   "metadata": {},
   "outputs": [
    {
     "data": {
      "text/plain": [
       "[16110091, 15110004]"
      ]
     },
     "execution_count": 11,
     "metadata": {},
     "output_type": "execute_result"
    }
   ],
   "source": [
    "already_done"
   ]
  },
  {
   "cell_type": "code",
   "execution_count": 12,
   "metadata": {},
   "outputs": [],
   "source": [
    "df = pd.read_csv(\"/Users/nipun/Downloads/CS-Heroes - Sheet1.csv\")"
   ]
  },
  {
   "cell_type": "code",
   "execution_count": 13,
   "metadata": {},
   "outputs": [],
   "source": [
    "found_new = False\n",
    "while(not found_new):\n",
    "    sel = df.sample(n=1)['RollNo'].values[0]\n",
    "    if sel not in already_done:\n",
    "        found_new = True\n",
    "    else:\n",
    "        print(\"Looks like random is hard on: {}\".format(df[df['RollNo']==sel]['Student Name']))"
   ]
  },
  {
   "cell_type": "code",
   "execution_count": 14,
   "metadata": {},
   "outputs": [],
   "source": [
    "already_done.append(sel)\n"
   ]
  },
  {
   "cell_type": "code",
   "execution_count": 15,
   "metadata": {},
   "outputs": [],
   "source": [
    "with open('already-done.txt','w') as g:\n",
    "    for roll in already_done:\n",
    "        g.write(\"%d\\n\" %roll)"
   ]
  },
  {
   "cell_type": "code",
   "execution_count": 16,
   "metadata": {},
   "outputs": [
    {
     "name": "stdout",
     "output_type": "stream",
     "text": [
      "********************************************************************************\n",
      "The chosen one for 2018-08-28\n",
      "********************************************************************************\n",
      "      RollNo                        Student Name                  Email Id\n",
      "14  16110083  Kukunuri Sai Venkata Ratna Rithwik  kukunuri.sai@iitgn.ac.in\n",
      "********************************************************************************\n"
     ]
    }
   ],
   "source": [
    "print(\"*\"*80)\n",
    "tom = datetime.date.today() + datetime.timedelta(days=1)\n",
    "print(\"The chosen one for {}\".format(tom))\n",
    "print(\"*\"*80)\n",
    "print(df[df['RollNo']==sel][['RollNo','Student Name', 'Email Id']])\n",
    "print(\"*\"*80)"
   ]
  },
  {
   "cell_type": "code",
   "execution_count": null,
   "metadata": {},
   "outputs": [],
   "source": []
  }
 ],
 "metadata": {
  "kernelspec": {
   "display_name": "Python 3",
   "language": "python",
   "name": "python3"
  },
  "language_info": {
   "codemirror_mode": {
    "name": "ipython",
    "version": 3
   },
   "file_extension": ".py",
   "mimetype": "text/x-python",
   "name": "python",
   "nbconvert_exporter": "python",
   "pygments_lexer": "ipython3",
   "version": "3.6.5"
  }
 },
 "nbformat": 4,
 "nbformat_minor": 2
}
